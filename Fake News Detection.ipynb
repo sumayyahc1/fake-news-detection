{
 "cells": [
  {
   "cell_type": "markdown",
   "id": "fc3af4e7",
   "metadata": {},
   "source": [
    "# Fake news detection on WELFake Dataset\n",
    "\n",
    "The goal of this project is to design and implement a machine learning model capable of distinguishing between real and fake news articles by leveraging the WELFake dataset from Kaggle. The WELFake dataset comprises articles titles and text labeled as either 'fake' or 'real'. The data is updated frequently and spans a range of topics and sources, providing a diverse set of data for training a model."
   ]
  },
  {
   "cell_type": "markdown",
   "id": "092084f9",
   "metadata": {},
   "source": [
    "## Data Cleaning & Exploration"
   ]
  },
  {
   "cell_type": "code",
   "execution_count": 244,
   "id": "717c2a4f",
   "metadata": {},
   "outputs": [],
   "source": [
    "# Import required libraries\n",
    "from zipfile import ZipFile\n",
    "import pandas as pd\n",
    "import numpy as np\n",
    "import matplotlib.pyplot as plt\n",
    "import seaborn as sns\n",
    "from sklearn.model_selection import train_test_split\n",
    "import nltk\n",
    "import re\n",
    "from nltk.corpus import stopwords\n",
    "from nltk.stem import WordNetLemmatizer\n",
    "from tensorflow.keras.layers import Embedding,LSTM,Dense,Dropout\n",
    "from tensorflow.keras.preprocessing.sequence import pad_sequences\n",
    "from tensorflow.keras.models import Sequential\n",
    "from tensorflow.keras.preprocessing.text import one_hot\n",
    "from sklearn.preprocessing import MinMaxScaler\n",
    "from sklearn.metrics import classification_report"
   ]
  },
  {
   "cell_type": "code",
   "execution_count": 1,
   "id": "71ab1eed",
   "metadata": {},
   "outputs": [
    {
     "name": "stdout",
     "output_type": "stream",
     "text": [
      "Warning: Your Kaggle API key is readable by other users on this system! To fix this, you can run 'chmod 600 /Users/sumayyahchougle/.kaggle/kaggle.json'\n",
      "Downloading fake-news-classification.zip to /Users/sumayyahchougle/Data Science/Personal Projects\n",
      "100%|███████████████████████████████████████| 92.1M/92.1M [01:17<00:00, 740kB/s]\n",
      "100%|██████████████████████████████████████| 92.1M/92.1M [01:17<00:00, 1.24MB/s]\n"
     ]
    }
   ],
   "source": [
    "# Load dataset from Kaggle\n",
    "!kaggle datasets download -d saurabhshahane/fake-news-classification"
   ]
  },
  {
   "cell_type": "code",
   "execution_count": 2,
   "id": "65fd9eeb",
   "metadata": {},
   "outputs": [
    {
     "name": "stdout",
     "output_type": "stream",
     "text": [
      "Done\n"
     ]
    }
   ],
   "source": [
    "# unzip \n",
    "with ZipFile('fake-news-classification.zip', 'r') as zip:\n",
    "  zip.extractall()\n",
    "  print('Done')"
   ]
  },
  {
   "cell_type": "code",
   "execution_count": 245,
   "id": "694699d6",
   "metadata": {},
   "outputs": [],
   "source": [
    "# read dataset\n",
    "df = pd.read_csv('WELFake_Dataset.csv')"
   ]
  },
  {
   "cell_type": "code",
   "execution_count": 246,
   "id": "0861f8a7",
   "metadata": {},
   "outputs": [
    {
     "data": {
      "text/html": [
       "<div>\n",
       "<style scoped>\n",
       "    .dataframe tbody tr th:only-of-type {\n",
       "        vertical-align: middle;\n",
       "    }\n",
       "\n",
       "    .dataframe tbody tr th {\n",
       "        vertical-align: top;\n",
       "    }\n",
       "\n",
       "    .dataframe thead th {\n",
       "        text-align: right;\n",
       "    }\n",
       "</style>\n",
       "<table border=\"1\" class=\"dataframe\">\n",
       "  <thead>\n",
       "    <tr style=\"text-align: right;\">\n",
       "      <th></th>\n",
       "      <th>Unnamed: 0</th>\n",
       "      <th>title</th>\n",
       "      <th>text</th>\n",
       "      <th>label</th>\n",
       "    </tr>\n",
       "  </thead>\n",
       "  <tbody>\n",
       "    <tr>\n",
       "      <th>0</th>\n",
       "      <td>0</td>\n",
       "      <td>LAW ENFORCEMENT ON HIGH ALERT Following Threat...</td>\n",
       "      <td>No comment is expected from Barack Obama Membe...</td>\n",
       "      <td>1</td>\n",
       "    </tr>\n",
       "    <tr>\n",
       "      <th>1</th>\n",
       "      <td>1</td>\n",
       "      <td>NaN</td>\n",
       "      <td>Did they post their votes for Hillary already?</td>\n",
       "      <td>1</td>\n",
       "    </tr>\n",
       "    <tr>\n",
       "      <th>2</th>\n",
       "      <td>2</td>\n",
       "      <td>UNBELIEVABLE! OBAMA’S ATTORNEY GENERAL SAYS MO...</td>\n",
       "      <td>Now, most of the demonstrators gathered last ...</td>\n",
       "      <td>1</td>\n",
       "    </tr>\n",
       "    <tr>\n",
       "      <th>3</th>\n",
       "      <td>3</td>\n",
       "      <td>Bobby Jindal, raised Hindu, uses story of Chri...</td>\n",
       "      <td>A dozen politically active pastors came here f...</td>\n",
       "      <td>0</td>\n",
       "    </tr>\n",
       "    <tr>\n",
       "      <th>4</th>\n",
       "      <td>4</td>\n",
       "      <td>SATAN 2: Russia unvelis an image of its terrif...</td>\n",
       "      <td>The RS-28 Sarmat missile, dubbed Satan 2, will...</td>\n",
       "      <td>1</td>\n",
       "    </tr>\n",
       "  </tbody>\n",
       "</table>\n",
       "</div>"
      ],
      "text/plain": [
       "   Unnamed: 0                                              title  \\\n",
       "0           0  LAW ENFORCEMENT ON HIGH ALERT Following Threat...   \n",
       "1           1                                                NaN   \n",
       "2           2  UNBELIEVABLE! OBAMA’S ATTORNEY GENERAL SAYS MO...   \n",
       "3           3  Bobby Jindal, raised Hindu, uses story of Chri...   \n",
       "4           4  SATAN 2: Russia unvelis an image of its terrif...   \n",
       "\n",
       "                                                text  label  \n",
       "0  No comment is expected from Barack Obama Membe...      1  \n",
       "1     Did they post their votes for Hillary already?      1  \n",
       "2   Now, most of the demonstrators gathered last ...      1  \n",
       "3  A dozen politically active pastors came here f...      0  \n",
       "4  The RS-28 Sarmat missile, dubbed Satan 2, will...      1  "
      ]
     },
     "execution_count": 246,
     "metadata": {},
     "output_type": "execute_result"
    }
   ],
   "source": [
    "df.head()"
   ]
  },
  {
   "cell_type": "code",
   "execution_count": 247,
   "id": "9d10f1a7",
   "metadata": {
    "scrolled": true
   },
   "outputs": [
    {
     "data": {
      "text/html": [
       "<div>\n",
       "<style scoped>\n",
       "    .dataframe tbody tr th:only-of-type {\n",
       "        vertical-align: middle;\n",
       "    }\n",
       "\n",
       "    .dataframe tbody tr th {\n",
       "        vertical-align: top;\n",
       "    }\n",
       "\n",
       "    .dataframe thead th {\n",
       "        text-align: right;\n",
       "    }\n",
       "</style>\n",
       "<table border=\"1\" class=\"dataframe\">\n",
       "  <thead>\n",
       "    <tr style=\"text-align: right;\">\n",
       "      <th></th>\n",
       "      <th>title</th>\n",
       "      <th>text</th>\n",
       "      <th>label</th>\n",
       "    </tr>\n",
       "  </thead>\n",
       "  <tbody>\n",
       "    <tr>\n",
       "      <th>0</th>\n",
       "      <td>LAW ENFORCEMENT ON HIGH ALERT Following Threat...</td>\n",
       "      <td>No comment is expected from Barack Obama Membe...</td>\n",
       "      <td>1</td>\n",
       "    </tr>\n",
       "    <tr>\n",
       "      <th>1</th>\n",
       "      <td>NaN</td>\n",
       "      <td>Did they post their votes for Hillary already?</td>\n",
       "      <td>1</td>\n",
       "    </tr>\n",
       "    <tr>\n",
       "      <th>2</th>\n",
       "      <td>UNBELIEVABLE! OBAMA’S ATTORNEY GENERAL SAYS MO...</td>\n",
       "      <td>Now, most of the demonstrators gathered last ...</td>\n",
       "      <td>1</td>\n",
       "    </tr>\n",
       "    <tr>\n",
       "      <th>3</th>\n",
       "      <td>Bobby Jindal, raised Hindu, uses story of Chri...</td>\n",
       "      <td>A dozen politically active pastors came here f...</td>\n",
       "      <td>0</td>\n",
       "    </tr>\n",
       "    <tr>\n",
       "      <th>4</th>\n",
       "      <td>SATAN 2: Russia unvelis an image of its terrif...</td>\n",
       "      <td>The RS-28 Sarmat missile, dubbed Satan 2, will...</td>\n",
       "      <td>1</td>\n",
       "    </tr>\n",
       "  </tbody>\n",
       "</table>\n",
       "</div>"
      ],
      "text/plain": [
       "                                               title  \\\n",
       "0  LAW ENFORCEMENT ON HIGH ALERT Following Threat...   \n",
       "1                                                NaN   \n",
       "2  UNBELIEVABLE! OBAMA’S ATTORNEY GENERAL SAYS MO...   \n",
       "3  Bobby Jindal, raised Hindu, uses story of Chri...   \n",
       "4  SATAN 2: Russia unvelis an image of its terrif...   \n",
       "\n",
       "                                                text  label  \n",
       "0  No comment is expected from Barack Obama Membe...      1  \n",
       "1     Did they post their votes for Hillary already?      1  \n",
       "2   Now, most of the demonstrators gathered last ...      1  \n",
       "3  A dozen politically active pastors came here f...      0  \n",
       "4  The RS-28 Sarmat missile, dubbed Satan 2, will...      1  "
      ]
     },
     "execution_count": 247,
     "metadata": {},
     "output_type": "execute_result"
    }
   ],
   "source": [
    "# drop extra index column\n",
    "df = df.loc[:, ['title', 'text', 'label']]\n",
    "df.head()"
   ]
  },
  {
   "cell_type": "code",
   "execution_count": 248,
   "id": "ad409c20",
   "metadata": {},
   "outputs": [
    {
     "data": {
      "text/plain": [
       "(72134, 3)"
      ]
     },
     "execution_count": 248,
     "metadata": {},
     "output_type": "execute_result"
    }
   ],
   "source": [
    "df.shape"
   ]
  },
  {
   "cell_type": "markdown",
   "id": "cdaf81f4",
   "metadata": {},
   "source": [
    "Checking for missing values."
   ]
  },
  {
   "cell_type": "code",
   "execution_count": 249,
   "id": "a73b57fb",
   "metadata": {},
   "outputs": [
    {
     "data": {
      "text/plain": [
       "title    558\n",
       "text      39\n",
       "label      0\n",
       "dtype: int64"
      ]
     },
     "execution_count": 249,
     "metadata": {},
     "output_type": "execute_result"
    }
   ],
   "source": [
    "df.isnull().sum()"
   ]
  },
  {
   "cell_type": "markdown",
   "id": "ff6daa4c",
   "metadata": {},
   "source": [
    "Not too many missing values, so let's delete the rows."
   ]
  },
  {
   "cell_type": "code",
   "execution_count": 250,
   "id": "c11e0a32",
   "metadata": {},
   "outputs": [
    {
     "data": {
      "text/plain": [
       "(71537, 3)"
      ]
     },
     "execution_count": 250,
     "metadata": {},
     "output_type": "execute_result"
    }
   ],
   "source": [
    "df.dropna(inplace=True)\n",
    "df.shape"
   ]
  },
  {
   "cell_type": "markdown",
   "id": "12664b01",
   "metadata": {},
   "source": [
    "Let's check the distribution of 'real' and 'fake' labels. In this dataset label 1 means fake and label 0 means real."
   ]
  },
  {
   "cell_type": "code",
   "execution_count": 253,
   "id": "26ea96af",
   "metadata": {},
   "outputs": [
    {
     "data": {
      "image/png": "[encoded data removed]",
      "text/plain": [
       "<Figure size 576x360 with 1 Axes>"
      ]
     },
     "metadata": {
      "needs_background": "light"
     },
     "output_type": "display_data"
    }
   ],
   "source": [
    "plt.figure(figsize=(8, 5))\n",
    "ax = sns.countplot(data=df, x='label')\n",
    "ax.set_xticklabels([\"Real\", \"Fake\"])\n",
    "plt.title('Distribution of Fake and Real News Articles')\n",
    "plt.show()"
   ]
  },
  {
   "cell_type": "markdown",
   "id": "17200700",
   "metadata": {},
   "source": [
    "The data is pretty evenly distributed."
   ]
  },
  {
   "cell_type": "markdown",
   "id": "8c6395af",
   "metadata": {},
   "source": [
    "Let's analyze article text length and title and check if there is any relation between these and its reliablity."
   ]
  },
  {
   "cell_type": "code",
   "execution_count": 255,
   "id": "d1ec46a7",
   "metadata": {},
   "outputs": [
    {
     "data": {
      "image/png": "[encoded data removed]",
      "text/plain": [
       "<Figure size 864x432 with 1 Axes>"
      ]
     },
     "metadata": {
      "needs_background": "light"
     },
     "output_type": "display_data"
    }
   ],
   "source": [
    "# Create new column for article text lengths\n",
    "df['text_length'] = df['text'].apply(lambda x: len(x) - x.count(\" \"))\n",
    "\n",
    "plt.figure(figsize=(12, 6))\n",
    "sns.histplot(data=df, x='text_length', hue='label', bins=np.linspace(0, 10000, 40), element='poly')\n",
    "plt.legend(labels=['Fake', 'Real'])\n",
    "plt.title('Distribution of Article Lengths for Fake and Real News')\n",
    "plt.show()"
   ]
  },
  {
   "cell_type": "markdown",
   "id": "1013017c",
   "metadata": {},
   "source": [
    "Let's do the same for article title length."
   ]
  },
  {
   "cell_type": "code",
   "execution_count": 256,
   "id": "283766c9",
   "metadata": {},
   "outputs": [
    {
     "data": {
      "image/png": "[encoded data removed]",
      "text/plain": [
       "<Figure size 864x432 with 1 Axes>"
      ]
     },
     "metadata": {
      "needs_background": "light"
     },
     "output_type": "display_data"
    }
   ],
   "source": [
    "# Create new column for title lengths\n",
    "df['title_length'] = df['title'].apply(lambda x: len(x) - x.count(\" \"))\n",
    "\n",
    "plt.figure(figsize=(12, 6))\n",
    "sns.histplot(data=df, x='title_length', hue='label', bins=np.linspace(0, 200, 40), element='poly')\n",
    "plt.legend(labels=['Fake', 'Real'])\n",
    "plt.title('Distribution of Title Lengths for Fake and Real News')\n",
    "plt.show()"
   ]
  },
  {
   "cell_type": "markdown",
   "id": "fdc3d481",
   "metadata": {},
   "source": [
    "Fake article titles and text are concentrated in a different character range than those of real articles. So these features have some relevance to the target.\n",
    "\n",
    "We'll use these features to train the model after scaling them.  "
   ]
  },
  {
   "cell_type": "code",
   "execution_count": 188,
   "id": "d70c3726",
   "metadata": {},
   "outputs": [],
   "source": [
    "scaler = MinMaxScaler(feature_range=(0, 100))  \n",
    "\n",
    "# Scale text and title length data to be between 0 and 10\n",
    "length_cols = ['text_length', 'title_length']\n",
    "df[length_cols] = pd.DataFrame(scaler.fit_transform(df[length_cols]), columns=length_cols)"
   ]
  },
  {
   "cell_type": "markdown",
   "id": "193d290d",
   "metadata": {},
   "source": [
    "Separating target and features and splitting the data into 80% train and 20% test data. "
   ]
  },
  {
   "cell_type": "code",
   "execution_count": 189,
   "id": "8afd4270",
   "metadata": {},
   "outputs": [],
   "source": [
    "df['text_full'] = df['text'] + \" \" + df['title']\n",
    "X = df.loc[: , ['text_full', 'text_length', 'title_length']]\n",
    "Y = df['label']"
   ]
  },
  {
   "cell_type": "code",
   "execution_count": 190,
   "id": "13904575",
   "metadata": {},
   "outputs": [],
   "source": [
    "X_train, X_test, y_train, y_test = train_test_split(X, Y, test_size=0.2, random_state=1)"
   ]
  },
  {
   "cell_type": "markdown",
   "id": "553f4e40",
   "metadata": {},
   "source": [
    "Cleaning and lemmatizing text data."
   ]
  },
  {
   "cell_type": "code",
   "execution_count": 191,
   "id": "8db57b4a",
   "metadata": {},
   "outputs": [
    {
     "data": {
      "text/html": [
       "<div>\n",
       "<style scoped>\n",
       "    .dataframe tbody tr th:only-of-type {\n",
       "        vertical-align: middle;\n",
       "    }\n",
       "\n",
       "    .dataframe tbody tr th {\n",
       "        vertical-align: top;\n",
       "    }\n",
       "\n",
       "    .dataframe thead th {\n",
       "        text-align: right;\n",
       "    }\n",
       "</style>\n",
       "<table border=\"1\" class=\"dataframe\">\n",
       "  <thead>\n",
       "    <tr style=\"text-align: right;\">\n",
       "      <th></th>\n",
       "      <th>text_full</th>\n",
       "      <th>text_length</th>\n",
       "      <th>title_length</th>\n",
       "    </tr>\n",
       "  </thead>\n",
       "  <tbody>\n",
       "    <tr>\n",
       "      <th>26517</th>\n",
       "      <td>conservative committing sexual assault embolde...</td>\n",
       "      <td>1.725039</td>\n",
       "      <td>13.541667</td>\n",
       "    </tr>\n",
       "    <tr>\n",
       "      <th>47707</th>\n",
       "      <td>figure could romantic heroine russian classic ...</td>\n",
       "      <td>5.005307</td>\n",
       "      <td>16.666667</td>\n",
       "    </tr>\n",
       "    <tr>\n",
       "      <th>32792</th>\n",
       "      <td>father gerald murphy go hillary clinton follow...</td>\n",
       "      <td>1.103764</td>\n",
       "      <td>12.239583</td>\n",
       "    </tr>\n",
       "    <tr>\n",
       "      <th>19324</th>\n",
       "      <td>in june disgraced sexual predator hollywood pr...</td>\n",
       "      <td>0.678423</td>\n",
       "      <td>17.187500</td>\n",
       "    </tr>\n",
       "    <tr>\n",
       "      <th>47036</th>\n",
       "      <td>edinburgh reuters a mother fighting four decad...</td>\n",
       "      <td>0.251449</td>\n",
       "      <td>18.489583</td>\n",
       "    </tr>\n",
       "  </tbody>\n",
       "</table>\n",
       "</div>"
      ],
      "text/plain": [
       "                                               text_full  text_length  \\\n",
       "26517  conservative committing sexual assault embolde...     1.725039   \n",
       "47707  figure could romantic heroine russian classic ...     5.005307   \n",
       "32792  father gerald murphy go hillary clinton follow...     1.103764   \n",
       "19324  in june disgraced sexual predator hollywood pr...     0.678423   \n",
       "47036  edinburgh reuters a mother fighting four decad...     0.251449   \n",
       "\n",
       "       title_length  \n",
       "26517     13.541667  \n",
       "47707     16.666667  \n",
       "32792     12.239583  \n",
       "19324     17.187500  \n",
       "47036     18.489583  "
      ]
     },
     "execution_count": 191,
     "metadata": {},
     "output_type": "execute_result"
    }
   ],
   "source": [
    "stop_words = set(stopwords.words('english'))\n",
    "def clean_lemmatize(text):\n",
    "    # remove punctuation\n",
    "    text = re.sub(r'[^\\w\\s]', ' ', text)\n",
    "    # remove numbers\n",
    "    text = re.sub('[0-9]+',' ',text)\n",
    "    # remove links\n",
    "    text = re.sub('https?:\\S+',' ',text)\n",
    "    # remove html tags\n",
    "    text = re.sub('<.*?>',' ',text)\n",
    "    # remove stopwords    \n",
    "    words = [w.lower() for w in text.split() if w not in stop_words]\n",
    "    text = \" \".join(words)\n",
    "    lemmatizer = WordNetLemmatizer()\n",
    "    lemma_words = []\n",
    "    for word in text.split():\n",
    "        lemma_words.append(lemmatizer.lemmatize(word))\n",
    "    return \" \".join(lemma_words)\n",
    "\n",
    "X_train['text_full'] = X_train['text_full'].apply(clean_lemmatize)\n",
    "X_test['text_full'] = X_test['text_full'].apply(clean_lemmatize)\n",
    "X_train.head()"
   ]
  },
  {
   "cell_type": "code",
   "execution_count": 192,
   "id": "f9c1f1f8",
   "metadata": {},
   "outputs": [],
   "source": [
    "# Converting text to one hot representation using vocabulary size of 7000\n",
    "vocab = 7000\n",
    "onehot_train = [one_hot(words,vocab)for words in X_train['text_full']]\n",
    "onehot_test = [one_hot(words,vocab)for words in X_test['text_full']]"
   ]
  },
  {
   "cell_type": "code",
   "execution_count": 193,
   "id": "277880e1",
   "metadata": {},
   "outputs": [],
   "source": [
    "# Padding the one hot sequences to make them of same size\n",
    "train_padded = pad_sequences(onehot_train,padding='pre',maxlen=25)\n",
    "test_padded = pad_sequences(onehot_test,padding='pre',maxlen=25)"
   ]
  },
  {
   "cell_type": "code",
   "execution_count": 212,
   "id": "3791d2a0",
   "metadata": {},
   "outputs": [
    {
     "data": {
      "text/plain": [
       "((57229, 27), (14308, 27), (57229,), (14308,))"
      ]
     },
     "execution_count": 212,
     "metadata": {},
     "output_type": "execute_result"
    }
   ],
   "source": [
    "# Converting train and test data into numpy array\n",
    "X_train_final = np.append(np.array(train_padded), np.array(X_train.loc[:, ['text_length', 'title_length']]), axis=1)\n",
    "y_train_final = np.array(y_train)\n",
    "X_test_final = np.append(np.array(test_padded), np.array(X_test.loc[:, ['text_length', 'title_length']]), axis=1)\n",
    "y_test_final = np.array(y_test)\n",
    "\n",
    "X_train_final.shape, X_test_final.shape, y_train_final.shape, y_test_final.shape"
   ]
  },
  {
   "cell_type": "markdown",
   "id": "f511dfa4",
   "metadata": {},
   "source": [
    "## Building and Training Model\n",
    "\n",
    "Creating model with embedding and LSTM layers."
   ]
  },
  {
   "cell_type": "code",
   "execution_count": 232,
   "id": "749162a8",
   "metadata": {},
   "outputs": [],
   "source": [
    "model = Sequential([\n",
    "    Embedding(vocab, 40, input_length=27),\n",
    "    Dropout(0.7),\n",
    "    LSTM(64,return_sequences=True),\n",
    "    Dropout(0.5),\n",
    "    LSTM(32),\n",
    "    Dropout(0.7),\n",
    "    Dense(64, activation='relu'),\n",
    "    Dropout(0.5),\n",
    "    Dense(1, activation='sigmoid')\n",
    "])\n",
    "model.compile(loss='binary_crossentropy',optimizer='adam',metrics=['accuracy'])"
   ]
  },
  {
   "cell_type": "code",
   "execution_count": 233,
   "id": "80b16141",
   "metadata": {},
   "outputs": [
    {
     "name": "stdout",
     "output_type": "stream",
     "text": [
      "Epoch 1/20\n",
      "895/895 [==============================] - 21s 22ms/step - loss: 0.2317 - accuracy: 0.9031 - val_loss: 0.1379 - val_accuracy: 0.9469\n",
      "Epoch 2/20\n",
      "895/895 [==============================] - 18s 21ms/step - loss: 0.1427 - accuracy: 0.9496 - val_loss: 0.1319 - val_accuracy: 0.9499\n",
      "Epoch 3/20\n",
      "895/895 [==============================] - 18s 20ms/step - loss: 0.1239 - accuracy: 0.9575 - val_loss: 0.1285 - val_accuracy: 0.9527\n",
      "Epoch 4/20\n",
      "895/895 [==============================] - 19s 21ms/step - loss: 0.1123 - accuracy: 0.9608 - val_loss: 0.1339 - val_accuracy: 0.9504\n",
      "Epoch 5/20\n",
      "895/895 [==============================] - 18s 21ms/step - loss: 0.1027 - accuracy: 0.9640 - val_loss: 0.1285 - val_accuracy: 0.9524\n",
      "Epoch 6/20\n",
      "895/895 [==============================] - 18s 21ms/step - loss: 0.0956 - accuracy: 0.9672 - val_loss: 0.1359 - val_accuracy: 0.9539\n",
      "Epoch 7/20\n",
      "895/895 [==============================] - 18s 20ms/step - loss: 0.0881 - accuracy: 0.9685 - val_loss: 0.1271 - val_accuracy: 0.9545\n",
      "Epoch 8/20\n",
      "895/895 [==============================] - 19s 21ms/step - loss: 0.0860 - accuracy: 0.9701 - val_loss: 0.1524 - val_accuracy: 0.9535\n",
      "Epoch 9/20\n",
      "895/895 [==============================] - 18s 20ms/step - loss: 0.0766 - accuracy: 0.9734 - val_loss: 0.1479 - val_accuracy: 0.9539\n",
      "Epoch 10/20\n",
      "895/895 [==============================] - 18s 21ms/step - loss: 0.0743 - accuracy: 0.9741 - val_loss: 0.1243 - val_accuracy: 0.9555\n",
      "Epoch 11/20\n",
      "895/895 [==============================] - 19s 21ms/step - loss: 0.0696 - accuracy: 0.9756 - val_loss: 0.1668 - val_accuracy: 0.9558\n",
      "Epoch 12/20\n",
      "895/895 [==============================] - 18s 21ms/step - loss: 0.0674 - accuracy: 0.9760 - val_loss: 0.1473 - val_accuracy: 0.9555\n",
      "Epoch 13/20\n",
      "895/895 [==============================] - 18s 20ms/step - loss: 0.0633 - accuracy: 0.9773 - val_loss: 0.1524 - val_accuracy: 0.9576\n",
      "Epoch 14/20\n",
      "895/895 [==============================] - 19s 21ms/step - loss: 0.0593 - accuracy: 0.9788 - val_loss: 0.1451 - val_accuracy: 0.9579\n",
      "Epoch 15/20\n",
      "895/895 [==============================] - 18s 20ms/step - loss: 0.0578 - accuracy: 0.9798 - val_loss: 0.1526 - val_accuracy: 0.9565\n",
      "Epoch 16/20\n",
      "895/895 [==============================] - 18s 20ms/step - loss: 0.0560 - accuracy: 0.9799 - val_loss: 0.1589 - val_accuracy: 0.9581\n",
      "Epoch 17/20\n",
      "895/895 [==============================] - 18s 20ms/step - loss: 0.0530 - accuracy: 0.9817 - val_loss: 0.1597 - val_accuracy: 0.9581\n",
      "Epoch 18/20\n",
      "895/895 [==============================] - 19s 21ms/step - loss: 0.0507 - accuracy: 0.9828 - val_loss: 0.1882 - val_accuracy: 0.9557\n",
      "Epoch 19/20\n",
      "895/895 [==============================] - 18s 20ms/step - loss: 0.0467 - accuracy: 0.9831 - val_loss: 0.2069 - val_accuracy: 0.9553\n",
      "Epoch 20/20\n",
      "895/895 [==============================] - 18s 20ms/step - loss: 0.0458 - accuracy: 0.9842 - val_loss: 0.1737 - val_accuracy: 0.9584\n"
     ]
    }
   ],
   "source": [
    "# Training model\n",
    "history = model.fit(X_train_final,y_train_final,\n",
    "                    validation_data=[X_test_final, y_test_final],\n",
    "                    epochs=20,\n",
    "                    batch_size=64)"
   ]
  },
  {
   "cell_type": "code",
   "execution_count": 234,
   "id": "ac2a8d68",
   "metadata": {},
   "outputs": [
    {
     "name": "stdout",
     "output_type": "stream",
     "text": [
      "448/448 [==============================] - 2s 3ms/step\n",
      "              precision    recall  f1-score   support\n",
      "\n",
      "           0       0.96      0.96      0.96      6969\n",
      "           1       0.96      0.96      0.96      7339\n",
      "\n",
      "    accuracy                           0.96     14308\n",
      "   macro avg       0.96      0.96      0.96     14308\n",
      "weighted avg       0.96      0.96      0.96     14308\n",
      "\n"
     ]
    }
   ],
   "source": [
    "test_preds = (model.predict(X_test_final) > 0.5).astype(\"int32\")\n",
    "print(classification_report(y_test_final, test_preds))"
   ]
  }
 ],
 "metadata": {
  "kernelspec": {
   "display_name": "Python 3 (ipykernel)",
   "language": "python",
   "name": "python3"
  },
  "language_info": {
   "codemirror_mode": {
    "name": "ipython",
    "version": 3
   },
   "file_extension": ".py",
   "mimetype": "text/x-python",
   "name": "python",
   "nbconvert_exporter": "python",
   "pygments_lexer": "ipython3",
   "version": "3.10.5"
  }
 },
 "nbformat": 4,
 "nbformat_minor": 5
}
